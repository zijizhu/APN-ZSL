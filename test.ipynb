{
 "cells": [
  {
   "cell_type": "code",
   "execution_count": 14,
   "metadata": {},
   "outputs": [],
   "source": [
    "import numpy as np\n",
    "import scipy\n",
    "import argparse"
   ]
  },
  {
   "cell_type": "code",
   "execution_count": 15,
   "metadata": {},
   "outputs": [],
   "source": [
    "class Args(argparse.Namespace):\n",
    "    dataset='CUB'\n",
    "    root='./'\n",
    "    image_root='/Users/zhijiezhu/Developer/Research/APN-ZSL/datasets/'\n",
    "    matdataset=True\n",
    "    image_embedding='res101'\n",
    "    class_embedding='att'\n",
    "    preprocessing=True\n",
    "    standardization=False\n",
    "    ol=False\n",
    "    validation=False\n",
    "    batch_size=64\n",
    "    nepoch=30\n",
    "    classifier_lr=1e-06\n",
    "    beta1=0.5\n",
    "    cuda=True\n",
    "    pretrain_classifier=''\n",
    "    manualSeed=4896\n",
    "    resnet_path='./pretrained_models/resnet101_c.pth.tar'\n",
    "    train_id=0\n",
    "    pretrained=None\n",
    "    image_type='test_unseen_loc'\n",
    "    pretrain_epoch=4\n",
    "    pretrain_lr=0.0001\n",
    "    all=False\n",
    "    gzsl=False\n",
    "    additional_loss=True\n",
    "    xe=1.0\n",
    "    attri=0.01\n",
    "    regular=5e-06\n",
    "    l_xe=1.0\n",
    "    l_attri=0.1\n",
    "    l_regular=0.04\n",
    "    cpt=1e-09\n",
    "    alibrated_stacking=0.7\n",
    "    save_att=False\n",
    "    IoU_scale=1.4\n",
    "    IoU_thr=0.5\n",
    "    resize_WH=False\n",
    "    out_of_edge=False\n",
    "    max_area_center=False\n",
    "    KNOW_BIRD_BB=False\n",
    "    train_mode='distributed'\n",
    "    n_batch=300\n",
    "    ways=8\n",
    "    shots=3\n",
    "    transform_complex=False\n",
    "    awa_finetune=False\n",
    "    use_group=True\n",
    "    avg_pool=False\n",
    "    only_evaluate=False\n",
    "    resume=False\n",
    "    dataroot='./data'\n",
    "    checkpointroot='./checkpoint'\n",
    "\n",
    "args = Args()"
   ]
  },
  {
   "cell_type": "code",
   "execution_count": 16,
   "metadata": {},
   "outputs": [],
   "source": [
    "import sys\n",
    "sys.path.insert(0, './model')\n",
    "from model.visual_utils import DATA_LOADER\n",
    "from model.main_utils import get_loader"
   ]
  },
  {
   "cell_type": "code",
   "execution_count": 17,
   "metadata": {},
   "outputs": [],
   "source": [
    "data = DATA_LOADER(args)\n",
    "trainloader, testloader_unseen, testloader_seen, visloader = get_loader(args, data)"
   ]
  },
  {
   "cell_type": "code",
   "execution_count": 18,
   "metadata": {},
   "outputs": [
    {
     "data": {
      "text/plain": [
       "300"
      ]
     },
     "execution_count": 18,
     "metadata": {},
     "output_type": "execute_result"
    }
   ],
   "source": [
    "len(trainloader)"
   ]
  },
  {
   "cell_type": "code",
   "execution_count": null,
   "metadata": {},
   "outputs": [],
   "source": []
  }
 ],
 "metadata": {
  "kernelspec": {
   "display_name": "research",
   "language": "python",
   "name": "python3"
  },
  "language_info": {
   "codemirror_mode": {
    "name": "ipython",
    "version": 3
   },
   "file_extension": ".py",
   "mimetype": "text/x-python",
   "name": "python",
   "nbconvert_exporter": "python",
   "pygments_lexer": "ipython3",
   "version": "3.11.8"
  }
 },
 "nbformat": 4,
 "nbformat_minor": 2
}
